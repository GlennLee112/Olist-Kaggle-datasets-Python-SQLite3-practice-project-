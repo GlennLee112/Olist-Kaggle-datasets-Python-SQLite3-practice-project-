{
 "cells": [
  {
   "cell_type": "code",
   "execution_count": 4,
   "id": "0c457367-68c0-4061-8719-f74e33953c55",
   "metadata": {},
   "outputs": [
    {
     "name": "stdout",
     "output_type": "stream",
     "text": [
      "pandas import successful\n"
     ]
    }
   ],
   "source": [
    "# Pre-install & main import cluseter - install or import checker \n",
    "import pip\n",
    "\n",
    "# package \n",
    "# https://stackoverflow.com/questions/4527554/check-if-module-exists-if-not-install-it\n",
    "def import_or_install(package):\n",
    "    try:\n",
    "        __import__(package)\n",
    "        print(f\"'{package}': import successful\")\n",
    "    except ImportError:\n",
    "        pip.main(['install', package])\n",
    "        print(f\"'{package}': import error; installing instead\")\n",
    "\n",
    "import_or_install(\"pandas\")"
   ]
  },
  {
   "cell_type": "code",
   "execution_count": 3,
   "id": "ea732e73-a3ec-4d2b-b2c9-704b8c897f0a",
   "metadata": {},
   "outputs": [],
   "source": [
    "# Main import cluster\n",
    "import os\n",
    "import pandas as pd"
   ]
  },
  {
   "cell_type": "code",
   "execution_count": 7,
   "id": "aad6f890-993f-438a-94ed-8dd2ca265055",
   "metadata": {},
   "outputs": [
    {
     "name": "stdout",
     "output_type": "stream",
     "text": [
      "G:\\Python\\SQL-Tk-practice-project\n",
      "                               order_id                       customer_id  \\\n",
      "0      00010242fe8c5a6d1ba2dd792cb16214  3ce436f183e68e07877b285a838db11a   \n",
      "1      00018f77f2f0320c557190d7a144bdd3  f6dd3ec061db4e3987629fe6b26e5cce   \n",
      "2      000229ec398224ef6ca0657da4fc703e  6489ae5e4333f3693df5ad4372dab6d3   \n",
      "3      00024acbcdf0a6daa1e931b038114c75  d4eb9395c8c0431ee92fce09860c5a06   \n",
      "4      00042b26cf59d7ce69dfabb4e55b4fd9  58dbd0b2d70206bf40e62cd34e84d795   \n",
      "...                                 ...                               ...   \n",
      "99987  fffc94f6ce00a00581880bf54a75a037  b51593916b4b8e0d6f66f2ae24f2673d   \n",
      "99988  fffcd46ef2263f404302a634eb57f7eb  84c5d4fbaf120aae381fad077416eaa0   \n",
      "99989  fffce4705a9662cd70adb13d4a31832d  29309aa813182aaddc9b259e31b870e6   \n",
      "99990  fffe18544ffabc95dfada21779c9644f  b5e6afd5a41800fdf401e0272ca74655   \n",
      "99991  fffe41c64501cc87c801fd61db3f6244  96d649da0cc4ff33bb408b199d4c7dcf   \n",
      "\n",
      "      order_status order_purchase_timestamp    order_approved_at  \\\n",
      "0        delivered      2017-09-13 08:59:02  2017-09-13 09:45:35   \n",
      "1        delivered      2017-04-26 10:53:06  2017-04-26 11:05:13   \n",
      "2        delivered      2018-01-14 14:33:31  2018-01-14 14:48:30   \n",
      "3        delivered      2018-08-08 10:00:35  2018-08-08 10:10:18   \n",
      "4        delivered      2017-02-04 13:57:51  2017-02-04 14:10:13   \n",
      "...            ...                      ...                  ...   \n",
      "99987    delivered      2018-04-23 13:57:06  2018-04-25 04:11:01   \n",
      "99988    delivered      2018-07-14 10:26:46  2018-07-17 04:31:48   \n",
      "99989    delivered      2017-10-23 17:07:56  2017-10-24 17:14:25   \n",
      "99990    delivered      2017-08-14 23:02:59  2017-08-15 00:04:32   \n",
      "99991    delivered      2018-06-09 17:00:18  2018-06-09 17:10:13   \n",
      "\n",
      "      order_delivered_carrier_date order_delivered_customer_date  \\\n",
      "0              2017-09-19 18:34:16           2017-09-20 23:43:48   \n",
      "1              2017-05-04 14:35:00           2017-05-12 16:04:24   \n",
      "2              2018-01-16 12:36:48           2018-01-22 13:19:16   \n",
      "3              2018-08-10 13:28:00           2018-08-14 13:32:39   \n",
      "4              2017-02-16 09:46:09           2017-03-01 16:42:31   \n",
      "...                            ...                           ...   \n",
      "99987          2018-04-25 12:09:00           2018-05-10 22:56:40   \n",
      "99988          2018-07-17 08:05:00           2018-07-23 20:31:55   \n",
      "99989          2017-10-26 15:13:14           2017-10-28 12:22:22   \n",
      "99990          2017-08-15 19:02:53           2017-08-16 21:59:40   \n",
      "99991          2018-06-11 14:11:00           2018-06-14 17:56:26   \n",
      "\n",
      "      order_estimated_delivery_date                         seller_id  \\\n",
      "0               2017-09-29 00:00:00  48436dade18ac8b2bce089ec2a041202   \n",
      "1               2017-05-15 00:00:00  dd7ddc04e1b6c2c614352b383efe2d36   \n",
      "2               2018-02-05 00:00:00  5b51032eddd242adc84c38acab88f23d   \n",
      "3               2018-08-20 00:00:00  9d7a1d34a5052409006425275ba1c2b4   \n",
      "4               2017-03-17 00:00:00  df560393f3a51e74553ab94004ba5c87   \n",
      "...                             ...                               ...   \n",
      "99987           2018-05-18 00:00:00  b8bc237ba3788b23da09c0f1f3a3288c   \n",
      "99988           2018-08-01 00:00:00  f3c38ab652836d21de61fb8314b69182   \n",
      "99989           2017-11-10 00:00:00  c3cfdc648177fdbbbb35635a37472c53   \n",
      "99990           2017-08-25 00:00:00  2b3e4a2a3ea8e01938cabda2a3e5cc79   \n",
      "99991           2018-06-28 00:00:00  f7ccf836d21b2fb1de37564105216cc1   \n",
      "\n",
      "       review_score  \n",
      "0               5.0  \n",
      "1               4.0  \n",
      "2               5.0  \n",
      "3               4.0  \n",
      "4               5.0  \n",
      "...             ...  \n",
      "99987           5.0  \n",
      "99988           5.0  \n",
      "99989           5.0  \n",
      "99990           5.0  \n",
      "99991           5.0  \n",
      "\n",
      "[99992 rows x 10 columns]\n"
     ]
    }
   ],
   "source": [
    "# Get base path method that works with Jupyter notebook\n",
    "# https://stackoverflow.com/questions/39125532/file-does-not-exist-in-jupyter-notebook\n",
    "base_path = os.path.abspath('')\n",
    "print(base_path)\n",
    "order_seller_review_path = os.path.join(base_path,\"Out\",\"order seller & review.csv\")\n",
    "df_base = pd.read_csv(order_seller_review_path)\n",
    "print(df_base)"
   ]
  },
  {
   "cell_type": "markdown",
   "id": "197cfd3c-09d7-4880-b46e-3ccd1b88253a",
   "metadata": {},
   "source": [
    "Basic reading of csv file containing detailed order information and review score, the columns are as follow:\n",
    "\n",
    "1. order_id\n",
    "2. customer_id\n",
    "3. order_status\n",
    "4. order_purchase_timestamp\n",
    "5. order_approved_at\n",
    "6. order_delivered_carrier_date\n",
    "7. order_delivered_customer_date\n",
    "8. order_estimated_delivery_date\n",
    "9. seller_id\n",
    "10. review_score"
   ]
  },
  {
   "cell_type": "markdown",
   "id": "587d9ab0-ce9d-41b1-9cf1-6138ae88fdd8",
   "metadata": {},
   "source": [
    "Task 1: Correlation and regression analysis of order fulfillment time and review score\n",
    "\n",
    "Base on a cursory reading of the data extracted, there are potentially some relationship between time of fulfillment and review score, use any suitable method to validate this observation\n",
    "\n",
    "hypothesis 1: longer order fulfillment time lead to lower review score\n",
    "\n",
    "hypothesis 2: "
   ]
  },
  {
   "cell_type": "code",
   "execution_count": null,
   "id": "1362b9a5-cc76-4931-b2ee-6b1f679a919e",
   "metadata": {},
   "outputs": [],
   "source": [
    "# new column\n",
    "# fulfillment time - time between order is place and order is delivered\n",
    "\n",
    "# "
   ]
  }
 ],
 "metadata": {
  "kernelspec": {
   "display_name": "Python 3 (ipykernel)",
   "language": "python",
   "name": "python3"
  },
  "language_info": {
   "codemirror_mode": {
    "name": "ipython",
    "version": 3
   },
   "file_extension": ".py",
   "mimetype": "text/x-python",
   "name": "python",
   "nbconvert_exporter": "python",
   "pygments_lexer": "ipython3",
   "version": "3.10.6"
  }
 },
 "nbformat": 4,
 "nbformat_minor": 5
}
